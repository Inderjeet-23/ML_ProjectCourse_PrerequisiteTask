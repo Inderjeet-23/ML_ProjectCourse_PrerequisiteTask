{
 "cells": [
  {
   "cell_type": "code",
   "execution_count": 238,
   "metadata": {},
   "outputs": [],
   "source": [
    "#Imports\n",
    "import tensorflow as tf\n",
    "import tensorflow.keras as keras\n",
    "from tensorflow.keras.models import Sequential\n",
    "from tensorflow.keras.layers import Flatten,Conv2D,MaxPool2D,Dense,Dropout\n",
    "from kerastuner import RandomSearch\n",
    "from kerastuner.engine.hyperparameters import HyperParameters\n",
    "import numpy as np\n",
    "from sklearn.manifold import TSNE\n",
    "import matplotlib.pyplot as plt\n",
    "from tensorflow.keras.models import load_model"
   ]
  },
  {
   "cell_type": "code",
   "execution_count": 239,
   "metadata": {},
   "outputs": [],
   "source": [
    "# Loading the MNIST dataset\n",
    "mnist_dataset = tf.keras.datasets.mnist\n",
    "(training_images, training_labels), (test_images, test_labels) = mnist_dataset.load_data()"
   ]
  },
  {
   "cell_type": "code",
   "execution_count": 241,
   "metadata": {},
   "outputs": [],
   "source": [
    "#Reshape and Scale\n",
    "\n",
    "training_images=training_images.reshape(60000, 28, 28, 1)\n",
    "training_images=training_images / 255.0\n",
    "test_images = test_images.reshape(10000, 28, 28, 1)\n",
    "test_images=test_images/255.0"
   ]
  },
  {
   "cell_type": "markdown",
   "metadata": {},
   "source": [
    "### Model without MC Dropout"
   ]
  },
  {
   "cell_type": "code",
   "execution_count": 242,
   "metadata": {},
   "outputs": [],
   "source": [
    "def cnn_model(hp):  \n",
    "  model = keras.Sequential([\n",
    "    keras.layers.Conv2D(\n",
    "        filters=hp.Int('conv_1_filter', min_value=32, max_value=128, step=16),\n",
    "        kernel_size=hp.Choice('conv_1_kernel', values = [2,3,5]),\n",
    "        activation='relu',\n",
    "        input_shape=(28,28,1)\n",
    "    ),\n",
    "    MaxPool2D(2,2),\n",
    "    keras.layers.Conv2D(\n",
    "        filters=hp.Int('conv_2_filter', min_value=32, max_value=64, step=16),\n",
    "        kernel_size=hp.Choice('conv_2_kernel', values = [2,3,5]),\n",
    "        activation='relu'\n",
    "    ),\n",
    "    MaxPool2D(2,2),\n",
    "    keras.layers.Flatten(),\n",
    "    keras.layers.Dense(\n",
    "        units=hp.Int('dense_1_units', min_value=32, max_value=128, step=16),\n",
    "        activation='relu'\n",
    "    ),\n",
    "    keras.layers.Dense(10, activation='softmax')\n",
    "  ])\n",
    "  \n",
    "  model.compile(optimizer=keras.optimizers.Adam(hp.Choice('learning_rate', values=[1e-2, 1e-3])),\n",
    "              loss='sparse_categorical_crossentropy',\n",
    "              metrics=['accuracy'])\n",
    "  \n",
    "  return model"
   ]
  },
  {
   "cell_type": "code",
   "execution_count": null,
   "metadata": {},
   "outputs": [],
   "source": [
    "# Hyperparameter Tuning\n",
    "\n",
    "tuner_search=RandomSearch(cnn_model,\n",
    "                          objective='val_accuracy',\n",
    "                          max_trials=5,directory='output',project_name=\"Mnist_Dataset\")\n",
    "\n",
    "tuner_search.search(training_images,training_labels,epochs=3,validation_split=0.1)"
   ]
  },
  {
   "cell_type": "code",
   "execution_count": 245,
   "metadata": {},
   "outputs": [
    {
     "name": "stdout",
     "output_type": "stream",
     "text": [
      "Model: \"sequential\"\n",
      "_________________________________________________________________\n",
      " Layer (type)                Output Shape              Param #   \n",
      "=================================================================\n",
      " conv2d (Conv2D)             (None, 24, 24, 32)        832       \n",
      "                                                                 \n",
      " max_pooling2d (MaxPooling2D  (None, 12, 12, 32)       0         \n",
      " )                                                               \n",
      "                                                                 \n",
      " conv2d_1 (Conv2D)           (None, 10, 10, 32)        9248      \n",
      "                                                                 \n",
      " max_pooling2d_1 (MaxPooling  (None, 5, 5, 32)         0         \n",
      " 2D)                                                             \n",
      "                                                                 \n",
      " flatten (Flatten)           (None, 800)               0         \n",
      "                                                                 \n",
      " dense (Dense)               (None, 48)                38448     \n",
      "                                                                 \n",
      " dense_1 (Dense)             (None, 10)                490       \n",
      "                                                                 \n",
      "=================================================================\n",
      "Total params: 49,018\n",
      "Trainable params: 49,018\n",
      "Non-trainable params: 0\n",
      "_________________________________________________________________\n"
     ]
    }
   ],
   "source": [
    "# Getting the best model\n",
    "model=tuner_search.get_best_models(num_models=1)[0]\n",
    "model.summary()"
   ]
  },
  {
   "cell_type": "code",
   "execution_count": 246,
   "metadata": {},
   "outputs": [
    {
     "name": "stdout",
     "output_type": "stream",
     "text": [
      "Epoch 1/10\n",
      "1875/1875 [==============================] - 16s 8ms/step - loss: 0.0406 - accuracy: 0.9876\n",
      "Epoch 2/10\n",
      "1875/1875 [==============================] - 15s 8ms/step - loss: 0.0317 - accuracy: 0.9898\n",
      "Epoch 3/10\n",
      "1875/1875 [==============================] - 16s 8ms/step - loss: 0.0240 - accuracy: 0.9924\n",
      "Epoch 4/10\n",
      "1875/1875 [==============================] - 16s 8ms/step - loss: 0.0197 - accuracy: 0.9939\n",
      "Epoch 5/10\n",
      "1875/1875 [==============================] - 16s 8ms/step - loss: 0.0164 - accuracy: 0.9949\n",
      "Epoch 6/10\n",
      "1875/1875 [==============================] - 17s 9ms/step - loss: 0.0131 - accuracy: 0.9957\n",
      "Epoch 7/10\n",
      "1875/1875 [==============================] - 16s 9ms/step - loss: 0.0122 - accuracy: 0.9959\n",
      "Epoch 8/10\n",
      "1875/1875 [==============================] - 15s 8ms/step - loss: 0.0099 - accuracy: 0.9968\n",
      "Epoch 9/10\n",
      "1875/1875 [==============================] - 15s 8ms/step - loss: 0.0090 - accuracy: 0.9969\n",
      "Epoch 10/10\n",
      "1875/1875 [==============================] - 15s 8ms/step - loss: 0.0073 - accuracy: 0.9977\n"
     ]
    }
   ],
   "source": [
    "model.fit(training_images,training_labels,epochs=10)\n",
    "model.save(\"models/model_withoutMC_mnistTrained.h5\")"
   ]
  },
  {
   "cell_type": "code",
   "execution_count": 248,
   "metadata": {},
   "outputs": [
    {
     "name": "stdout",
     "output_type": "stream",
     "text": [
      "313/313 [==============================] - 1s 3ms/step - loss: 0.0489 - accuracy: 0.9889\n",
      "Accuracy of CNN model without MC dropout (MNIST dataset) : 0.9889000058174133\n"
     ]
    }
   ],
   "source": [
    "model_stats = model.evaluate(test_images,test_labels)\n",
    "print(\"Accuracy of CNN model without MC dropout (MNIST dataset) :\" , model_stats[1])"
   ]
  },
  {
   "cell_type": "markdown",
   "metadata": {},
   "source": [
    "### Model with MC Dropout"
   ]
  },
  {
   "cell_type": "code",
   "execution_count": 249,
   "metadata": {},
   "outputs": [],
   "source": [
    "# Creating model with MC dropput, using hypertuned parameters\n",
    "\n",
    "def cnn_model_mc():  \n",
    "  model = Sequential([\n",
    "    Conv2D(32,(5,5),input_shape=(28,28,1),activation='relu'),\n",
    "    Dropout(0.4),\n",
    "    MaxPool2D(2,2),\n",
    "    Conv2D(32,(3,3),input_shape=(28,28,1),activation='relu'),\n",
    "    Dropout(0.4),\n",
    "    MaxPool2D(2,2),\n",
    "    Flatten(),\n",
    "    Dense(48, activation='relu'),\n",
    "    Dropout(0.4),\n",
    "    Dense(10, activation='softmax')\n",
    "  ])\n",
    "  \n",
    "  model.compile(\n",
    "  optimizer='Adam',\n",
    "  loss='sparse_categorical_crossentropy',\n",
    "  metrics=['accuracy']\n",
    "  )\n",
    "  \n",
    "  return model"
   ]
  },
  {
   "cell_type": "code",
   "execution_count": 250,
   "metadata": {},
   "outputs": [
    {
     "name": "stdout",
     "output_type": "stream",
     "text": [
      "Model: \"sequential_1\"\n",
      "_________________________________________________________________\n",
      " Layer (type)                Output Shape              Param #   \n",
      "=================================================================\n",
      " conv2d_2 (Conv2D)           (None, 24, 24, 32)        832       \n",
      "                                                                 \n",
      " dropout (Dropout)           (None, 24, 24, 32)        0         \n",
      "                                                                 \n",
      " max_pooling2d_2 (MaxPooling  (None, 12, 12, 32)       0         \n",
      " 2D)                                                             \n",
      "                                                                 \n",
      " conv2d_3 (Conv2D)           (None, 10, 10, 32)        9248      \n",
      "                                                                 \n",
      " dropout_1 (Dropout)         (None, 10, 10, 32)        0         \n",
      "                                                                 \n",
      " max_pooling2d_3 (MaxPooling  (None, 5, 5, 32)         0         \n",
      " 2D)                                                             \n",
      "                                                                 \n",
      " flatten_1 (Flatten)         (None, 800)               0         \n",
      "                                                                 \n",
      " dense_2 (Dense)             (None, 48)                38448     \n",
      "                                                                 \n",
      " dropout_2 (Dropout)         (None, 48)                0         \n",
      "                                                                 \n",
      " dense_3 (Dense)             (None, 10)                490       \n",
      "                                                                 \n",
      "=================================================================\n",
      "Total params: 49,018\n",
      "Trainable params: 49,018\n",
      "Non-trainable params: 0\n",
      "_________________________________________________________________\n"
     ]
    }
   ],
   "source": [
    "model_mc = cnn_model_mc()\n",
    "model_mc.summary()"
   ]
  },
  {
   "cell_type": "code",
   "execution_count": 251,
   "metadata": {},
   "outputs": [
    {
     "name": "stdout",
     "output_type": "stream",
     "text": [
      "Epoch 1/10\n",
      "1875/1875 [==============================] - 25s 13ms/step - loss: 0.3131 - accuracy: 0.9017\n",
      "Epoch 2/10\n",
      "1875/1875 [==============================] - 22s 12ms/step - loss: 0.1265 - accuracy: 0.9626\n",
      "Epoch 3/10\n",
      "1875/1875 [==============================] - 22s 12ms/step - loss: 0.1010 - accuracy: 0.9706\n",
      "Epoch 4/10\n",
      "1875/1875 [==============================] - 22s 12ms/step - loss: 0.0897 - accuracy: 0.9729\n",
      "Epoch 5/10\n",
      "1875/1875 [==============================] - 23s 12ms/step - loss: 0.0796 - accuracy: 0.9760\n",
      "Epoch 6/10\n",
      "1875/1875 [==============================] - 23s 12ms/step - loss: 0.0746 - accuracy: 0.9785\n",
      "Epoch 7/10\n",
      "1875/1875 [==============================] - 24s 13ms/step - loss: 0.0701 - accuracy: 0.9790\n",
      "Epoch 8/10\n",
      "1875/1875 [==============================] - 24s 13ms/step - loss: 0.0658 - accuracy: 0.9809\n",
      "Epoch 9/10\n",
      "1875/1875 [==============================] - 23s 12ms/step - loss: 0.0628 - accuracy: 0.9812\n",
      "Epoch 10/10\n",
      "1875/1875 [==============================] - 27s 14ms/step - loss: 0.0623 - accuracy: 0.9816\n"
     ]
    }
   ],
   "source": [
    "model_mc.fit(training_images,training_labels,epochs=10)\n",
    "model_mc.save(\"models/model_withMC_mnistTrained.h5\")"
   ]
  },
  {
   "cell_type": "code",
   "execution_count": 252,
   "metadata": {},
   "outputs": [],
   "source": [
    "prediction_stack_mc = np.stack([model_mc(test_images,training=True)\n",
    "                   for sample in range(100)])"
   ]
  },
  {
   "cell_type": "code",
   "execution_count": 253,
   "metadata": {},
   "outputs": [],
   "source": [
    "prediction_mean = prediction_stack_mc.mean(axis = 0)\n",
    "prediction_std = prediction_stack_mc.std(axis = 0)"
   ]
  },
  {
   "cell_type": "code",
   "execution_count": 254,
   "metadata": {},
   "outputs": [],
   "source": [
    "prediction = np.argmax(prediction_mean , axis = 1)\n",
    "accuracy = sum(prediction == test_labels) / len(test_labels)"
   ]
  },
  {
   "cell_type": "code",
   "execution_count": 255,
   "metadata": {},
   "outputs": [
    {
     "name": "stdout",
     "output_type": "stream",
     "text": [
      "Accuracy with MC dropout with 100 iterations in testing : 0.9917\n"
     ]
    }
   ],
   "source": [
    "print(\"Accuracy with MC dropout with 100 iterations in testing :\", accuracy)"
   ]
  },
  {
   "cell_type": "markdown",
   "metadata": {},
   "source": [
    "### Subtask a."
   ]
  },
  {
   "cell_type": "code",
   "execution_count": 256,
   "metadata": {},
   "outputs": [],
   "source": [
    "# Removing last layer of my model without MC\n",
    "model = load_model('models/model_withoutMC_mnistTrained.h5')\n",
    "model_without_last_layer = Sequential(model.layers[:-1])"
   ]
  },
  {
   "cell_type": "code",
   "execution_count": 257,
   "metadata": {},
   "outputs": [
    {
     "name": "stdout",
     "output_type": "stream",
     "text": [
      "313/313 [==============================] - 1s 3ms/step\n"
     ]
    }
   ],
   "source": [
    "# Getting the model's new outputs\n",
    "model_outputs = model_without_last_layer.predict(test_images)"
   ]
  },
  {
   "cell_type": "code",
   "execution_count": 258,
   "metadata": {},
   "outputs": [],
   "source": [
    "# Compute t-SNE embeddings\n",
    "tsne = TSNE(n_components=2, random_state=42)\n",
    "tsne_embeddings = tsne.fit_transform(model_outputs)"
   ]
  },
  {
   "cell_type": "code",
   "execution_count": 259,
   "metadata": {},
   "outputs": [
    {
     "data": {
      "image/png": "[encoded data removed]",
      "text/plain": [
       "<Figure size 640x480 with 2 Axes>"
      ]
     },
     "metadata": {},
     "output_type": "display_data"
    }
   ],
   "source": [
    "# Plot the t-SNE plot\n",
    "plt.scatter(tsne_embeddings[:, 0], tsne_embeddings[:, 1], c=test_labels, cmap=plt.cm.get_cmap(\"jet\", 10))\n",
    "plt.colorbar(ticks=range(10))\n",
    "plt.clim(-0.5, 9.5)\n",
    "plt.show()"
   ]
  },
  {
   "cell_type": "markdown",
   "metadata": {},
   "source": [
    "### Subtask b."
   ]
  },
  {
   "cell_type": "code",
   "execution_count": 260,
   "metadata": {},
   "outputs": [],
   "source": [
    "# Load fashion mnist dataset\n",
    "\n",
    "mnist_dataset_fashion = tf.keras.datasets.fashion_mnist\n",
    "(training_images_fashion, training_labels_fashion), (test_images_fashion, test_labels_fashion) = mnist_dataset_fashion.load_data()"
   ]
  },
  {
   "cell_type": "code",
   "execution_count": 261,
   "metadata": {},
   "outputs": [],
   "source": [
    "training_images_fashion=training_images_fashion.reshape(60000, 28, 28, 1)\n",
    "training_images_fashion=training_images_fashion / 255.0\n",
    "test_images_fashion = test_images_fashion.reshape(10000, 28, 28, 1)\n",
    "test_images_fashion=test_images_fashion/255.0"
   ]
  },
  {
   "cell_type": "markdown",
   "metadata": {},
   "source": [
    "Using the model trained on MNIST dataset"
   ]
  },
  {
   "cell_type": "code",
   "execution_count": 313,
   "metadata": {},
   "outputs": [],
   "source": [
    "model_mc = load_model('models/model_withMC_mnistTrained.h5')"
   ]
  },
  {
   "cell_type": "code",
   "execution_count": 314,
   "metadata": {},
   "outputs": [],
   "source": [
    "prediction_stack_mc = np.stack([model_mc(test_images_fashion,training=True)\n",
    "                   for sample in range(100)])"
   ]
  },
  {
   "cell_type": "code",
   "execution_count": 315,
   "metadata": {},
   "outputs": [],
   "source": [
    "prediction_mean = prediction_stack_mc.mean(axis = 0)\n",
    "prediction_std = (prediction_stack_mc).std(axis=2).mean(axis=0)\n",
    "\n",
    "prediction = np.argmax(prediction_mean , axis = 1)\n",
    "accuracy = sum(prediction == test_labels_fashion) / len(test_labels_fashion)"
   ]
  },
  {
   "cell_type": "code",
   "execution_count": 316,
   "metadata": {},
   "outputs": [],
   "source": [
    "#Using the concept of entropy and variance to calculate a measure of uncertainity\n",
    "\n",
    "predictive_entropy = (-prediction_stack_mc * np.log(prediction_stack_mc)).sum(axis=2).mean(axis=0)\n",
    "predictive_entropy = np.nan_to_num(predictive_entropy, nan=0.0) "
   ]
  },
  {
   "cell_type": "code",
   "execution_count": 317,
   "metadata": {},
   "outputs": [
    {
     "name": "stdout",
     "output_type": "stream",
     "text": [
      "The average variance for each prediction(a form of uncertainity) : [0.26300514 0.24211177 0.2269969  ... 0.16625433 0.23489672 0.14443341]\n",
      "The uncertainity(entropy) for each prediction : [0.34840667 0.581479   0.7054053  ... 1.2388569  0.62063754 1.5187188 ]\n",
      "Average Uncertainty across the tests(standard deviation of predictive entropy): 0.99848723\n",
      "Accuracy of the model : 0.1056\n"
     ]
    }
   ],
   "source": [
    "print(\"The average variance for each prediction(a form of uncertainity) :\" , prediction_std)\n",
    "\n",
    "print(\"The uncertainity(entropy) for each prediction :\" , predictive_entropy)\n",
    "\n",
    "uncertainty_entropy = predictive_entropy.mean()\n",
    "print(\"Average Uncertainty across the tests(standard deviation of predictive entropy):\", uncertainty_entropy)\n",
    "\n",
    "print(\"Accuracy of the model :\" , accuracy)"
   ]
  },
  {
   "cell_type": "markdown",
   "metadata": {},
   "source": [
    "Training the model on the MNIST fashion dataset itself: "
   ]
  },
  {
   "cell_type": "code",
   "execution_count": 302,
   "metadata": {},
   "outputs": [],
   "source": [
    "model_mc = cnn_model_mc()"
   ]
  },
  {
   "cell_type": "code",
   "execution_count": 303,
   "metadata": {},
   "outputs": [
    {
     "name": "stdout",
     "output_type": "stream",
     "text": [
      "Epoch 1/10\n",
      "1875/1875 [==============================] - 25s 13ms/step - loss: 0.6743 - accuracy: 0.7505\n",
      "Epoch 2/10\n",
      "1875/1875 [==============================] - 25s 13ms/step - loss: 0.4838 - accuracy: 0.8241\n",
      "Epoch 3/10\n",
      "1875/1875 [==============================] - 23s 12ms/step - loss: 0.4315 - accuracy: 0.8436\n",
      "Epoch 4/10\n",
      "1875/1875 [==============================] - 24s 13ms/step - loss: 0.4001 - accuracy: 0.8555\n",
      "Epoch 5/10\n",
      "1875/1875 [==============================] - 22s 12ms/step - loss: 0.3829 - accuracy: 0.8619\n",
      "Epoch 6/10\n",
      "1875/1875 [==============================] - 21s 11ms/step - loss: 0.3680 - accuracy: 0.8668\n",
      "Epoch 7/10\n",
      "1875/1875 [==============================] - 21s 11ms/step - loss: 0.3574 - accuracy: 0.8697\n",
      "Epoch 8/10\n",
      "1875/1875 [==============================] - 21s 11ms/step - loss: 0.3480 - accuracy: 0.8728\n",
      "Epoch 9/10\n",
      "1875/1875 [==============================] - 21s 11ms/step - loss: 0.3379 - accuracy: 0.8765\n",
      "Epoch 10/10\n",
      "1875/1875 [==============================] - 21s 11ms/step - loss: 0.3314 - accuracy: 0.8797\n"
     ]
    }
   ],
   "source": [
    "model_mc.fit(training_images_fashion,training_labels_fashion,epochs=10)\n",
    "model_mc.save(\"models/model_withMC_mnistFashionTrained.h5\")"
   ]
  },
  {
   "cell_type": "code",
   "execution_count": 304,
   "metadata": {},
   "outputs": [],
   "source": [
    "prediction_stack_mc = np.stack([model_mc(test_images_fashion,training=True)\n",
    "                   for sample in range(100)])"
   ]
  },
  {
   "cell_type": "code",
   "execution_count": 305,
   "metadata": {},
   "outputs": [],
   "source": [
    "prediction_mean = prediction_stack_mc.mean(axis = 0)\n",
    "prediction_std = (prediction_stack_mc).std(axis=2).mean(axis=0)\n",
    "\n",
    "prediction = np.argmax(prediction_mean , axis = 1)\n",
    "accuracy = sum(prediction == test_labels_fashion) / len(test_labels_fashion)"
   ]
  },
  {
   "cell_type": "code",
   "execution_count": null,
   "metadata": {},
   "outputs": [],
   "source": [
    "#Using the concept of entropy and variance to calculate a measure of uncertainity\n",
    "\n",
    "predictive_entropy = (-prediction_stack_mc * np.log(prediction_stack_mc)).sum(axis=2).mean(axis=0)\n",
    "predictive_entropy = np.nan_to_num(predictive_entropy, nan=0.0) "
   ]
  },
  {
   "cell_type": "code",
   "execution_count": 308,
   "metadata": {},
   "outputs": [
    {
     "name": "stdout",
     "output_type": "stream",
     "text": [
      "The average variance for each prediction(a form of uncertainity) : [0.29707313 0.2908978  0.29998198 ... 0.2984008  0.29931396 0.22707577]\n",
      "The uncertainity(entropy) for each prediction : [0.03247189 0.         0.         ... 0.01999399 0.         0.67041624]\n",
      "Average Uncertainty across the tests(standard deviation of predictive entropy): 0.2529331\n",
      "Accuracy of the model : 0.9019\n"
     ]
    }
   ],
   "source": [
    "print(\"The average variance for each prediction(a form of uncertainity) :\" , prediction_std)\n",
    "\n",
    "print(\"The uncertainity(entropy) for each prediction :\" , predictive_entropy)\n",
    "\n",
    "uncertainty_entropy = predictive_entropy.mean()\n",
    "print(\"Average Uncertainty across the tests(standard deviation of predictive entropy):\", uncertainty_entropy)\n",
    "\n",
    "print(\"Accuracy of the model :\" , accuracy)"
   ]
  },
  {
   "cell_type": "markdown",
   "metadata": {},
   "source": [
    "#### Subtask c."
   ]
  },
  {
   "cell_type": "code",
   "execution_count": 286,
   "metadata": {},
   "outputs": [],
   "source": [
    "# Creating the model without dropout\n",
    "\n",
    "def cnn_model():  \n",
    "  model = Sequential([\n",
    "    Conv2D(32,(5,5),input_shape=(28,28,1),activation='relu'),\n",
    "    MaxPool2D(2,2),\n",
    "    Conv2D(32,(3,3),input_shape=(28,28,1),activation='relu'),\n",
    "    MaxPool2D(2,2),\n",
    "    Flatten(),\n",
    "    Dense(48, activation='relu'),\n",
    "    Dense(20, activation='softmax')\n",
    "  ])\n",
    "  \n",
    "  model.compile(\n",
    "  optimizer='Adam',\n",
    "  loss='sparse_categorical_crossentropy',\n",
    "  metrics=['accuracy']\n",
    "  )\n",
    "  \n",
    "  return model"
   ]
  },
  {
   "cell_type": "code",
   "execution_count": 287,
   "metadata": {},
   "outputs": [],
   "source": [
    "model = cnn_model()"
   ]
  },
  {
   "cell_type": "code",
   "execution_count": 288,
   "metadata": {},
   "outputs": [],
   "source": [
    "# Changing the fashion mnist data so that the labels are different from the mnist data\n",
    "\n",
    "mnist_dataset = tf.keras.datasets.mnist\n",
    "(training_images, training_labels), (test_images, test_labels) = mnist_dataset.load_data()\n",
    "\n",
    "mnist_dataset_fashion = tf.keras.datasets.fashion_mnist\n",
    "(training_images_fashion, training_labels_fashion), (test_images_fashion, test_labels_fashion) = mnist_dataset_fashion.load_data()"
   ]
  },
  {
   "cell_type": "code",
   "execution_count": 289,
   "metadata": {},
   "outputs": [],
   "source": [
    "training_images=training_images.reshape(60000, 28, 28, 1)\n",
    "training_images=training_images / 255.0\n",
    "test_images = test_images.reshape(10000, 28, 28, 1)\n",
    "test_images=test_images/255.0"
   ]
  },
  {
   "cell_type": "code",
   "execution_count": 290,
   "metadata": {},
   "outputs": [],
   "source": [
    "training_images_fashion=training_images_fashion.reshape(60000, 28, 28, 1)\n",
    "training_images_fashion=training_images_fashion / 255.0\n",
    "test_images_fashion = test_images_fashion.reshape(10000, 28, 28, 1)\n",
    "test_images_fashion=test_images_fashion/255.0"
   ]
  },
  {
   "cell_type": "code",
   "execution_count": 291,
   "metadata": {},
   "outputs": [],
   "source": [
    "training_labels_fashion_new = []\n",
    "test_labels_fashion_new = []\n",
    "\n",
    "for i in range(len(training_labels_fashion)):\n",
    "    training_labels_fashion_new.append(training_labels_fashion[i] + 10)\n",
    "\n",
    "\n",
    "for i in range(len(test_labels_fashion)):\n",
    "    test_labels_fashion_new.append(test_labels_fashion[i] + 10)"
   ]
  },
  {
   "cell_type": "code",
   "execution_count": 292,
   "metadata": {},
   "outputs": [],
   "source": [
    "training_labels_fashion_new = np.array(training_labels_fashion_new)\n",
    "test_labels_fashion_new = np.array(test_labels_fashion_new)"
   ]
  },
  {
   "cell_type": "code",
   "execution_count": 293,
   "metadata": {},
   "outputs": [],
   "source": [
    "combined_training_images = np.concatenate((training_images, training_images_fashion), axis=0)\n",
    "combined_training_labels = np.concatenate((training_labels, training_labels_fashion_new), axis=0)"
   ]
  },
  {
   "cell_type": "code",
   "execution_count": 294,
   "metadata": {},
   "outputs": [],
   "source": [
    "combined_test_images = np.concatenate((test_images, test_images_fashion), axis=0)\n",
    "combined_test_labels = np.concatenate((test_labels, test_labels_fashion_new), axis=0)"
   ]
  },
  {
   "cell_type": "code",
   "execution_count": 295,
   "metadata": {},
   "outputs": [
    {
     "name": "stdout",
     "output_type": "stream",
     "text": [
      "Epoch 1/10\n",
      "3750/3750 [==============================] - 30s 8ms/step - loss: 0.3402 - accuracy: 0.8851\n",
      "Epoch 2/10\n",
      "3750/3750 [==============================] - 31s 8ms/step - loss: 0.1939 - accuracy: 0.9319\n",
      "Epoch 3/10\n",
      "3750/3750 [==============================] - 29s 8ms/step - loss: 0.1648 - accuracy: 0.9415\n",
      "Epoch 4/10\n",
      "3750/3750 [==============================] - 30s 8ms/step - loss: 0.1479 - accuracy: 0.9469\n",
      "Epoch 5/10\n",
      "3750/3750 [==============================] - 29s 8ms/step - loss: 0.1357 - accuracy: 0.9507\n",
      "Epoch 6/10\n",
      "3750/3750 [==============================] - 29s 8ms/step - loss: 0.1244 - accuracy: 0.9548\n",
      "Epoch 7/10\n",
      "3750/3750 [==============================] - 28s 8ms/step - loss: 0.1165 - accuracy: 0.9571\n",
      "Epoch 8/10\n",
      "3750/3750 [==============================] - 28s 8ms/step - loss: 0.1095 - accuracy: 0.9594\n",
      "Epoch 9/10\n",
      "3750/3750 [==============================] - 29s 8ms/step - loss: 0.1036 - accuracy: 0.9616\n",
      "Epoch 10/10\n",
      "3750/3750 [==============================] - 28s 8ms/step - loss: 0.0981 - accuracy: 0.9638\n"
     ]
    }
   ],
   "source": [
    "model.fit(combined_training_images,combined_training_labels,epochs=10)\n",
    "model.save(\"models/model_withoutMC_mnistTrained_fashionTrained.h5\")"
   ]
  },
  {
   "cell_type": "code",
   "execution_count": 282,
   "metadata": {},
   "outputs": [],
   "source": [
    "#Removing the last layer\n",
    "model_without_last_layer = Sequential(model.layers[:-1])"
   ]
  },
  {
   "cell_type": "code",
   "execution_count": 283,
   "metadata": {},
   "outputs": [
    {
     "name": "stdout",
     "output_type": "stream",
     "text": [
      "625/625 [==============================] - 2s 3ms/step\n"
     ]
    }
   ],
   "source": [
    "# Getting the model's outputs\n",
    "model_outputs = model_without_last_layer.predict(combined_test_images)"
   ]
  },
  {
   "cell_type": "code",
   "execution_count": 284,
   "metadata": {},
   "outputs": [],
   "source": [
    "# Compute t-SNE embeddings\n",
    "tsne = TSNE(n_components=2, random_state=42)\n",
    "tsne_embeddings = tsne.fit_transform(model_outputs)"
   ]
  },
  {
   "cell_type": "code",
   "execution_count": 285,
   "metadata": {},
   "outputs": [
    {
     "data": {
      "image/png": "[encoded data removed]",
      "text/plain": [
       "<Figure size 640x480 with 2 Axes>"
      ]
     },
     "metadata": {},
     "output_type": "display_data"
    }
   ],
   "source": [
    "# Plot the t-SNE plot\n",
    "plt.scatter(tsne_embeddings[:, 0], tsne_embeddings[:, 1], c=combined_test_labels, cmap=plt.cm.get_cmap(\"jet\", 20))\n",
    "plt.colorbar(ticks=range(20))\n",
    "plt.clim(-0.5, 19.5)\n",
    "plt.text(0, 100, \"Class 0-9 are MNIST Numbers Images \\nClass 10-19 are Fashion MNIST Images\",\n",
    "         fontsize=12, ha='center', va='center', bbox=dict(facecolor='white', alpha=0.7))\n",
    "plt.show()"
   ]
  }
 ],
 "metadata": {
  "kernelspec": {
   "display_name": "Python 3",
   "language": "python",
   "name": "python3"
  },
  "language_info": {
   "codemirror_mode": {
    "name": "ipython",
    "version": 3
   },
   "file_extension": ".py",
   "mimetype": "text/x-python",
   "name": "python",
   "nbconvert_exporter": "python",
   "pygments_lexer": "ipython3",
   "version": "3.11.1"
  },
  "orig_nbformat": 4
 },
 "nbformat": 4,
 "nbformat_minor": 2
}
